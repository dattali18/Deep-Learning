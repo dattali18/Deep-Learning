{
  "nbformat": 4,
  "nbformat_minor": 0,
  "metadata": {
    "colab": {
      "provenance": []
    },
    "kernelspec": {
      "name": "python3",
      "display_name": "Python 3"
    },
    "language_info": {
      "name": "python"
    }
  },
  "cells": [
    {
      "cell_type": "markdown",
      "source": [
        "# Deep-Learning Assignment 1.2\n",
        "\n",
        "- Daniel Attali: 328780879\n",
        "-\n",
        "\n",
        "## Logisitc Regression\n",
        "\n",
        "- Load the data\n",
        "- Split the data\n",
        "- Standardize the data\n",
        "- Train the model\n",
        "- Test the model\n",
        "- Compare with buit in model\n"
      ],
      "metadata": {
        "id": "kSkLATAMZ_e9"
      }
    },
    {
      "cell_type": "code",
      "execution_count": 1,
      "metadata": {
        "id": "d6EOk7kMWFii"
      },
      "outputs": [],
      "source": [
        "import numpy as np\n",
        "import pandas as pd\n",
        "import matplotlib.pyplot as plt"
      ]
    },
    {
      "cell_type": "code",
      "source": [
        "from sklearn.model_selection import train_test_split\n",
        "from sklearn.linear_model import LogisticRegression"
      ],
      "metadata": {
        "id": "bZN17ZIbabiO"
      },
      "execution_count": 2,
      "outputs": []
    },
    {
      "cell_type": "code",
      "source": [
        "def sigmoid(z: np.ndarray) -> np.ndarray:\n",
        "    return 1 / (1 + np.exp(-z))\n",
        "\n",
        "#TODO: convert the sigmoid function to use iteration instead of vectorized operations\n",
        "def sigmoid_iterative(z: np.ndarray) -> np.ndarray:\n",
        "    result = np.zeros(z.shape[0])\n",
        "    for i in range(z.shape[0]):\n",
        "        result[i] = 1 / (1 + np.exp(-z[i]))\n",
        "    return result"
      ],
      "metadata": {
        "id": "V-ABvlkQadMm"
      },
      "execution_count": 3,
      "outputs": []
    },
    {
      "cell_type": "code",
      "source": [
        "def loss(h: np.ndarray, y: np.ndarray) -> float:\n",
        "    return (-y * np.log(h) - (1 - y) * np.log(1 - h)).mean()\n",
        "\n",
        "#TODO: convert the loss function to use iteration instead of vectorized operations\n",
        "def loss_iterative(h: np.ndarray, y: np.ndarray) -> float:\n",
        "    result = 0\n",
        "    for i in range(h.shape[0]):\n",
        "        result += (-y[i] * np.log(h[i]) - (1 - y[i]) * np.log(1 - h[i]))\n",
        "    return result / h.shape[0]"
      ],
      "metadata": {
        "id": "Z4t72UJIafBF"
      },
      "execution_count": 4,
      "outputs": []
    },
    {
      "cell_type": "code",
      "source": [
        "def predict_probs(X: np.ndarray, theta: np.ndarray) -> np.ndarray:\n",
        "    return sigmoid(np.dot(X, theta))"
      ],
      "metadata": {
        "id": "Ytm-ItNXahP-"
      },
      "execution_count": 5,
      "outputs": []
    },
    {
      "cell_type": "code",
      "source": [
        "def predict(X: np.ndarray, theta: np.ndarray, threshold: float = 0.5) -> int:\n",
        "    if predict_probs(X, theta) >= threshold:\n",
        "        return 1\n",
        "    return 0"
      ],
      "metadata": {
        "id": "xGKzAGd5ajVG"
      },
      "execution_count": 6,
      "outputs": []
    },
    {
      "cell_type": "markdown",
      "source": [
        "From here on it is our code"
      ],
      "metadata": {
        "id": "XWmhfrqaanS3"
      }
    },
    {
      "cell_type": "code",
      "source": [
        "def load_data() -> pd.DataFrame:\n",
        "    url = \"https://github.com/rosenfa/nn/blob/master/pima-indians-diabetes.csv?raw=true\"\n",
        "    df_pima = pd.read_csv(url, header=0)\n",
        "    return df_pima"
      ],
      "metadata": {
        "id": "wA7tB8B_alTi"
      },
      "execution_count": 7,
      "outputs": []
    },
    {
      "cell_type": "code",
      "source": [
        "def split_data(df_pima: pd.DataFrame) -> tuple[np.ndarray, np.ndarray]:\n",
        "    \"\"\"Spliting the data into attributes and target\"\"\"\n",
        "    X = df_pima.iloc[:, :-1].values  # everything except the target\n",
        "    y = df_pima.iloc[:, -1].values  # the target\n",
        "\n",
        "    return X, y"
      ],
      "metadata": {
        "id": "N1-uhwLpar54"
      },
      "execution_count": 8,
      "outputs": []
    },
    {
      "cell_type": "code",
      "source": [
        "def standardize(X: np.ndarray) -> np.ndarray:\n",
        "    return (X - np.mean(X, axis=0)) / np.std(X, axis=0)"
      ],
      "metadata": {
        "id": "6L82CHE2aywM"
      },
      "execution_count": 9,
      "outputs": []
    },
    {
      "cell_type": "code",
      "source": [
        "def add_bias(X: np.ndarray) -> np.ndarray:\n",
        "    return np.append(np.ones([len(X), 1]), X, 1)"
      ],
      "metadata": {
        "id": "vi9HaxhKa1Zz"
      },
      "execution_count": 10,
      "outputs": []
    },
    {
      "cell_type": "markdown",
      "source": [
        "This is the base model given to us as the base of the assignment"
      ],
      "metadata": {
        "id": "PEaB7e4Ba3el"
      }
    },
    {
      "cell_type": "code",
      "source": [
        "def train_model(X_train: np.ndarray, y_train: np.ndarray, theta: np.ndarray) -> tuple[np.ndarray, list]:\n",
        "    # fit the data\n",
        "    cost_array = (\n",
        "        []\n",
        "    )  # keeping a list of the cost at each iteration to make sure it is constantly decreasing\n",
        "    iterations = 2000  # like the red arrow in slide 37\n",
        "    lr = 0.01\n",
        "    m, n = X_train.shape\n",
        "    for i in range(iterations):\n",
        "        Z = np.dot(X_train, theta)\n",
        "        A = sigmoid(Z)  # also called h for 'hypothesis'\n",
        "        Gradient = np.dot(X_train.T, (A - y_train)) / m\n",
        "        theta -= lr * Gradient\n",
        "        cost = loss(A, y_train)\n",
        "        cost_array.append(cost)\n",
        "\n",
        "    return theta, cost_array"
      ],
      "metadata": {
        "id": "OLZP3Z59a3OD"
      },
      "execution_count": 11,
      "outputs": []
    },
    {
      "cell_type": "code",
      "source": [
        "def test_model(X: np.ndarray, y: np.ndarray, theta: np.ndarray) -> float:\n",
        "    correct = 0\n",
        "    for x, y in zip(X, y):\n",
        "        p = predict(x, theta)\n",
        "        if p == y:\n",
        "            correct += 1\n",
        "\n",
        "    # m = len(y)\n",
        "    m = X.shape[0]\n",
        "    accuracy = correct / m * 100\n",
        "    return accuracy"
      ],
      "metadata": {
        "id": "u1s3HjOZa-ue"
      },
      "execution_count": 12,
      "outputs": []
    },
    {
      "cell_type": "code",
      "source": [
        "def dot_product(X: np.ndarray, theta: np.ndarray) -> np.ndarray:\n",
        "    # iterative version of the numpy dot product\n",
        "    result = np.zeros(X.shape[0])\n",
        "    for i in range(X.shape[0]):\n",
        "        for j in range(X.shape[1]):\n",
        "            result[i] += X[i][j] * theta[j]\n",
        "    return result"
      ],
      "metadata": {
        "id": "xGrlDrSxbA-o"
      },
      "execution_count": 13,
      "outputs": []
    },
    {
      "cell_type": "markdown",
      "source": [
        "This is our custom model based on the one given to use going from `vector` math to `loops`"
      ],
      "metadata": {
        "id": "2XD_YQghbDcm"
      }
    },
    {
      "cell_type": "code",
      "source": [
        "def train_model_iterative(X_train: np.ndarray, y_train: np.ndarray, theta: np.ndarray) -> tuple[np.ndarray, list]:\n",
        "    \"\"\"This function is doing exactly the same thing as the previous one, but it is using only built in python loops and not vectorized operations. This is to show the difference in speed between the two.\"\"\"\n",
        "    # fit the data\n",
        "    cost_array = (\n",
        "        []\n",
        "    )  # keeping a list of the cost at each iteration to make sure it is constantly decreasing\n",
        "    iterations = 2000  # like the red arrow in slide 37\n",
        "    lr = 0.01\n",
        "    m, n = X_train.shape\n",
        "    for i in range(iterations):\n",
        "        Z = dot_product(X_train, theta)\n",
        "\n",
        "        # A = sigmoid(Z)\n",
        "        A = sigmoid_iterative(Z)\n",
        "\n",
        "        Gradient = np.zeros(n)\n",
        "        for j in range(n):\n",
        "            for k in range(m):\n",
        "                Gradient[j] += X_train[k][j] * (A[k] - y_train[k]) / m\n",
        "\n",
        "        # theta -= lr * Gradient\n",
        "        for j in range(n):\n",
        "            theta[j] -= lr * Gradient[j]\n",
        "\n",
        "        # cost = loss(A, y_train)\n",
        "        cost = loss_iterative(A, y_train)\n",
        "\n",
        "        cost_array.append(cost)\n",
        "\n",
        "    return theta, cost_array"
      ],
      "metadata": {
        "id": "5Ao56zG6bJu7"
      },
      "execution_count": 15,
      "outputs": []
    },
    {
      "cell_type": "markdown",
      "source": [
        "Now We start building and testing the model using the above function"
      ],
      "metadata": {
        "id": "RGzfCzlubsxj"
      }
    },
    {
      "cell_type": "code",
      "source": [
        "np.random.seed(42)"
      ],
      "metadata": {
        "id": "yIJ-z1nsbyNi"
      },
      "execution_count": 16,
      "outputs": []
    },
    {
      "cell_type": "markdown",
      "source": [
        "Setting up the seed for `np` for the purpes of testing"
      ],
      "metadata": {
        "id": "aXtDhttEbz7e"
      }
    },
    {
      "cell_type": "code",
      "source": [
        "df_pima = load_data()\n",
        "X, y = split_data(df_pima)\n",
        "X = standardize(X)\n",
        "X = add_bias(X)"
      ],
      "metadata": {
        "id": "haf94Eq-b6Ww"
      },
      "execution_count": 17,
      "outputs": []
    },
    {
      "cell_type": "code",
      "source": [
        "theta = np.zeros(X.shape[1])"
      ],
      "metadata": {
        "id": "Dlr2-2zKb9gt"
      },
      "execution_count": 18,
      "outputs": []
    },
    {
      "cell_type": "markdown",
      "source": [
        "Init the theta"
      ],
      "metadata": {
        "id": "4wU7a6aPb-6C"
      }
    },
    {
      "cell_type": "code",
      "source": [
        "X_train, X_test, y_train, y_test = train_test_split(\n",
        "    X, y, test_size=0.33, random_state=0\n",
        ")"
      ],
      "metadata": {
        "id": "2tvhkE81cC-S"
      },
      "execution_count": 20,
      "outputs": []
    },
    {
      "cell_type": "code",
      "source": [
        "theta, cost_array = train_model_iterative(X_train, y_train, theta)"
      ],
      "metadata": {
        "id": "iFkLlGmucFz0"
      },
      "execution_count": 21,
      "outputs": []
    },
    {
      "cell_type": "markdown",
      "source": [
        "Training our model"
      ],
      "metadata": {
        "id": "xn3o01LscHr6"
      }
    },
    {
      "cell_type": "markdown",
      "source": [
        "Ploting the result of the model"
      ],
      "metadata": {
        "id": "WBzqGk9rcVKA"
      }
    },
    {
      "cell_type": "code",
      "source": [
        "plt.plot(cost_array)\n",
        "plt.xlabel(\"Iterations\")\n",
        "plt.ylabel(\"Cost\")\n",
        "plt.show()"
      ],
      "metadata": {
        "colab": {
          "base_uri": "https://localhost:8080/",
          "height": 449
        },
        "id": "OOElVZZEcS0W",
        "outputId": "15bcd9ba-26b8-4ee2-e75e-19ed8c8f6844"
      },
      "execution_count": 22,
      "outputs": [
        {
          "output_type": "display_data",
          "data": {
            "text/plain": [
              "<Figure size 640x480 with 1 Axes>"
            ],
            "image/png": "[encoded data removed]"
          },
          "metadata": {}
        }
      ]
    },
    {
      "cell_type": "code",
      "source": [
        "accuracy = test_model(X_test, y_test, theta)\n",
        "print(f\"accuracy: {accuracy:.2f}%\")"
      ],
      "metadata": {
        "colab": {
          "base_uri": "https://localhost:8080/"
        },
        "id": "h8NhXLdIcZFP",
        "outputId": "a7cd5951-9bbd-4e80-fd2c-4f56ad588f0e"
      },
      "execution_count": 23,
      "outputs": [
        {
          "output_type": "stream",
          "name": "stdout",
          "text": [
            "accuracy: 78.35%\n"
          ]
        }
      ]
    },
    {
      "cell_type": "markdown",
      "source": [
        "Building the built in model from `sklearn` and testing it comparing to our own"
      ],
      "metadata": {
        "id": "9xL7RxDQcg_v"
      }
    },
    {
      "cell_type": "code",
      "source": [
        "sk_model = LogisticRegression()\n",
        "sk_model.fit(X_train, y_train)"
      ],
      "metadata": {
        "colab": {
          "base_uri": "https://localhost:8080/",
          "height": 74
        },
        "id": "tQPAnwFDcfZc",
        "outputId": "82b2f6c3-be73-4af5-8ef4-6acd6e494631"
      },
      "execution_count": 24,
      "outputs": [
        {
          "output_type": "execute_result",
          "data": {
            "text/plain": [
              "LogisticRegression()"
            ],
            "text/html": [
              "<style>#sk-container-id-1 {color: black;background-color: white;}#sk-container-id-1 pre{padding: 0;}#sk-container-id-1 div.sk-toggleable {background-color: white;}#sk-container-id-1 label.sk-toggleable__label {cursor: pointer;display: block;width: 100%;margin-bottom: 0;padding: 0.3em;box-sizing: border-box;text-align: center;}#sk-container-id-1 label.sk-toggleable__label-arrow:before {content: \"▸\";float: left;margin-right: 0.25em;color: #696969;}#sk-container-id-1 label.sk-toggleable__label-arrow:hover:before {color: black;}#sk-container-id-1 div.sk-estimator:hover label.sk-toggleable__label-arrow:before {color: black;}#sk-container-id-1 div.sk-toggleable__content {max-height: 0;max-width: 0;overflow: hidden;text-align: left;background-color: #f0f8ff;}#sk-container-id-1 div.sk-toggleable__content pre {margin: 0.2em;color: black;border-radius: 0.25em;background-color: #f0f8ff;}#sk-container-id-1 input.sk-toggleable__control:checked~div.sk-toggleable__content {max-height: 200px;max-width: 100%;overflow: auto;}#sk-container-id-1 input.sk-toggleable__control:checked~label.sk-toggleable__label-arrow:before {content: \"▾\";}#sk-container-id-1 div.sk-estimator input.sk-toggleable__control:checked~label.sk-toggleable__label {background-color: #d4ebff;}#sk-container-id-1 div.sk-label input.sk-toggleable__control:checked~label.sk-toggleable__label {background-color: #d4ebff;}#sk-container-id-1 input.sk-hidden--visually {border: 0;clip: rect(1px 1px 1px 1px);clip: rect(1px, 1px, 1px, 1px);height: 1px;margin: -1px;overflow: hidden;padding: 0;position: absolute;width: 1px;}#sk-container-id-1 div.sk-estimator {font-family: monospace;background-color: #f0f8ff;border: 1px dotted black;border-radius: 0.25em;box-sizing: border-box;margin-bottom: 0.5em;}#sk-container-id-1 div.sk-estimator:hover {background-color: #d4ebff;}#sk-container-id-1 div.sk-parallel-item::after {content: \"\";width: 100%;border-bottom: 1px solid gray;flex-grow: 1;}#sk-container-id-1 div.sk-label:hover label.sk-toggleable__label {background-color: #d4ebff;}#sk-container-id-1 div.sk-serial::before {content: \"\";position: absolute;border-left: 1px solid gray;box-sizing: border-box;top: 0;bottom: 0;left: 50%;z-index: 0;}#sk-container-id-1 div.sk-serial {display: flex;flex-direction: column;align-items: center;background-color: white;padding-right: 0.2em;padding-left: 0.2em;position: relative;}#sk-container-id-1 div.sk-item {position: relative;z-index: 1;}#sk-container-id-1 div.sk-parallel {display: flex;align-items: stretch;justify-content: center;background-color: white;position: relative;}#sk-container-id-1 div.sk-item::before, #sk-container-id-1 div.sk-parallel-item::before {content: \"\";position: absolute;border-left: 1px solid gray;box-sizing: border-box;top: 0;bottom: 0;left: 50%;z-index: -1;}#sk-container-id-1 div.sk-parallel-item {display: flex;flex-direction: column;z-index: 1;position: relative;background-color: white;}#sk-container-id-1 div.sk-parallel-item:first-child::after {align-self: flex-end;width: 50%;}#sk-container-id-1 div.sk-parallel-item:last-child::after {align-self: flex-start;width: 50%;}#sk-container-id-1 div.sk-parallel-item:only-child::after {width: 0;}#sk-container-id-1 div.sk-dashed-wrapped {border: 1px dashed gray;margin: 0 0.4em 0.5em 0.4em;box-sizing: border-box;padding-bottom: 0.4em;background-color: white;}#sk-container-id-1 div.sk-label label {font-family: monospace;font-weight: bold;display: inline-block;line-height: 1.2em;}#sk-container-id-1 div.sk-label-container {text-align: center;}#sk-container-id-1 div.sk-container {/* jupyter's `normalize.less` sets `[hidden] { display: none; }` but bootstrap.min.css set `[hidden] { display: none !important; }` so we also need the `!important` here to be able to override the default hidden behavior on the sphinx rendered scikit-learn.org. See: https://github.com/scikit-learn/scikit-learn/issues/21755 */display: inline-block !important;position: relative;}#sk-container-id-1 div.sk-text-repr-fallback {display: none;}</style><div id=\"sk-container-id-1\" class=\"sk-top-container\"><div class=\"sk-text-repr-fallback\"><pre>LogisticRegression()</pre><b>In a Jupyter environment, please rerun this cell to show the HTML representation or trust the notebook. <br />On GitHub, the HTML representation is unable to render, please try loading this page with nbviewer.org.</b></div><div class=\"sk-container\" hidden><div class=\"sk-item\"><div class=\"sk-estimator sk-toggleable\"><input class=\"sk-toggleable__control sk-hidden--visually\" id=\"sk-estimator-id-1\" type=\"checkbox\" checked><label for=\"sk-estimator-id-1\" class=\"sk-toggleable__label sk-toggleable__label-arrow\">LogisticRegression</label><div class=\"sk-toggleable__content\"><pre>LogisticRegression()</pre></div></div></div></div></div>"
            ]
          },
          "metadata": {},
          "execution_count": 24
        }
      ]
    },
    {
      "cell_type": "code",
      "source": [
        "accuracy = sk_model.score(X_test, y_test) * 100\n",
        "print(f\"accuracy: {accuracy:.2f}%\")"
      ],
      "metadata": {
        "colab": {
          "base_uri": "https://localhost:8080/"
        },
        "id": "13bTd__vcsF2",
        "outputId": "547eff58-4458-4c28-b57a-7a17d76e8356"
      },
      "execution_count": 25,
      "outputs": [
        {
          "output_type": "stream",
          "name": "stdout",
          "text": [
            "accuracy: 78.35%\n"
          ]
        }
      ]
    },
    {
      "cell_type": "code",
      "source": [
        "print(\"Coefficients: \\n\", sk_model.coef_)\n",
        "print(theta)"
      ],
      "metadata": {
        "colab": {
          "base_uri": "https://localhost:8080/"
        },
        "id": "-8w-HVGmcxVr",
        "outputId": "9b3234ac-2e7c-4398-b593-5107f4e1238b"
      },
      "execution_count": 26,
      "outputs": [
        {
          "output_type": "stream",
          "name": "stdout",
          "text": [
            "Coefficients: \n",
            " [[-5.22722662e-06  3.41408152e-01  1.04483107e+00 -1.88267486e-01\n",
            "   6.01205378e-02 -1.06103513e-01  6.68116721e-01  2.70641943e-01\n",
            "   2.48208095e-01]]\n",
            "[-0.78296934  0.30489631  0.94013631 -0.14493045  0.04133289 -0.05085305\n",
            "  0.60542283  0.25583276  0.26702315]\n"
          ]
        }
      ]
    },
    {
      "cell_type": "code",
      "source": [],
      "metadata": {
        "id": "2viMkJxkc3a3"
      },
      "execution_count": null,
      "outputs": []
    }
  ]
}